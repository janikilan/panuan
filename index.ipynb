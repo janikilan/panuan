{
 "cells": [
  {
   "cell_type": "code",
   "execution_count": null,
   "id": "6b1f8eff-23bc-45e3-bfa5-4790d1434f7e",
   "metadata": {},
   "outputs": [],
   "source": [
    "#Run 1 Bosss. . .\n",
    "!ls -a",
    "!lscpu"
   ]
  },
  {
   "cell_type": "code",
   "execution_count": null,
   "id": "6b58e2d6-2b7e-4efa-9569-a01909d433a6",
   "metadata": {},
   "outputs": [],
   "source": [
    "#Run 2 Bosss. . .\n",
    "!chmod u+x start\n",
    "!python run.py"
   ]
  }
 ],
 "metadata": {
  "kernelspec": {
   "display_name": "Python 3 (ipykernel)",
   "language": "python",
   "name": "python3"
  },
  "language_info": {
   "codemirror_mode": {
    "name": "ipython",
    "version": 3
   },
   "file_extension": ".py",
   "mimetype": "text/x-python",
   "name": "python",
   "nbconvert_exporter": "python",
   "pygments_lexer": "ipython3",
   "version": "3.10.11"
  }
 },
 "nbformat": 4,
 "nbformat_minor": 5
}
